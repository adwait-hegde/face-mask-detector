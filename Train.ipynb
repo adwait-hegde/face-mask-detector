{
 "cells": [
  {
   "cell_type": "code",
   "execution_count": 1,
   "metadata": {},
   "outputs": [],
   "source": [
    "from tensorflow.keras.preprocessing.image import ImageDataGenerator\n",
    "from tensorflow.keras.applications import MobileNetV2\n",
    "from tensorflow.keras.layers import AveragePooling2D, Dropout, Flatten, Dense, Input\n",
    "from tensorflow.keras.models import Model\n",
    "from tensorflow.keras.optimizers import Adam\n",
    "from tensorflow.keras.applications.mobilenet_v2 import preprocess_input\n",
    "from tensorflow.keras.preprocessing.image import img_to_array, load_img\n",
    "from tensorflow.keras.utils import to_categorical\n",
    "from sklearn.preprocessing import LabelBinarizer\n",
    "from sklearn.model_selection import train_test_split\n",
    "from sklearn.metrics import classification_report\n",
    "from imutils import paths\n",
    "import matplotlib.pyplot as plt\n",
    "import numpy as np\n",
    "import os"
   ]
  },
  {
   "cell_type": "code",
   "execution_count": 34,
   "metadata": {},
   "outputs": [],
   "source": [
    "LR = 1e-4\n",
    "EPOCHS = 20\n",
    "BS = 32"
   ]
  },
  {
   "cell_type": "code",
   "execution_count": 35,
   "metadata": {},
   "outputs": [
    {
     "name": "stderr",
     "output_type": "stream",
     "text": [
      "C:\\Users\\adwai\\anaconda3\\envs\\tensorflow-20\\lib\\site-packages\\PIL\\Image.py:952: UserWarning: Palette images with Transparency expressed in bytes should be converted to RGBA images\n",
      "  \"Palette images with Transparency expressed in bytes should be \"\n"
     ]
    }
   ],
   "source": [
    "DIRECTORY = \"dataset\"\n",
    "CATEGORIES = [\"with_mask\", \"without_mask\"]\n",
    "\n",
    "data = []\n",
    "labels = []\n",
    "\n",
    "for category in CATEGORIES:\n",
    "    path = os.path.join(DIRECTORY, category)\n",
    "    for img in os.listdir(path):\n",
    "        img_path = os.path.join(path, img)\n",
    "        image = load_img(img_path, target_size=(224, 224))\n",
    "        image = img_to_array(image)\n",
    "        image = preprocess_input(image)\n",
    "\n",
    "        data.append(image)\n",
    "        labels.append(category)"
   ]
  },
  {
   "cell_type": "code",
   "execution_count": 36,
   "metadata": {},
   "outputs": [],
   "source": [
    "lb = LabelBinarizer()\n",
    "labels = lb.fit_transform(labels)\n",
    "labels = to_categorical(labels)\n",
    "\n",
    "data = np.array(data, dtype=\"float32\")\n",
    "labels = np.array(labels)\n",
    "\n",
    "(trainX, testX, trainY, testY) = train_test_split(data, labels, test_size=0.20, stratify=labels)"
   ]
  },
  {
   "cell_type": "code",
   "execution_count": 37,
   "metadata": {},
   "outputs": [],
   "source": [
    "aug = ImageDataGenerator(\n",
    "        rotation_range=20,\n",
    "        zoom_range=0.15,\n",
    "        width_shift_range=0.2,\n",
    "        height_shift_range=0.2,\n",
    "        shear_range=0.15,\n",
    "        horizontal_flip=True,\n",
    "        fill_mode=\"nearest\")"
   ]
  },
  {
   "cell_type": "code",
   "execution_count": 38,
   "metadata": {},
   "outputs": [
    {
     "name": "stderr",
     "output_type": "stream",
     "text": [
      "C:\\Users\\adwai\\anaconda3\\envs\\tensorflow-20\\lib\\site-packages\\keras_applications\\mobilenet_v2.py:294: UserWarning: `input_shape` is undefined or non-square, or `rows` is not in [96, 128, 160, 192, 224]. Weights for input shape (224, 224) will be loaded as the default.\n",
      "  warnings.warn('`input_shape` is undefined or non-square, '\n"
     ]
    }
   ],
   "source": [
    "MNV2Model = MobileNetV2(weights=\"imagenet\", include_top=False, input_tensor=Input(shape=(224, 224, 3)))\n",
    "\n",
    "classModel = MNV2Model.output\n",
    "classModel = AveragePooling2D(pool_size=(7, 7))(classModel)\n",
    "classModel = Flatten(name=\"flatten\")(classModel)\n",
    "classModel = Dense(128, activation=\"relu\")(classModel)\n",
    "classModel = Dropout(0.5)(classModel)\n",
    "classModel = Dense(2, activation=\"softmax\")(classModel)"
   ]
  },
  {
   "cell_type": "code",
   "execution_count": 39,
   "metadata": {},
   "outputs": [],
   "source": [
    "model = Model(inputs=MNV2Model.input, outputs=classModel)\n",
    "\n",
    "for layer in MNV2Model.layers:\n",
    "    layer.trainable = False"
   ]
  },
  {
   "cell_type": "code",
   "execution_count": 40,
   "metadata": {},
   "outputs": [],
   "source": [
    "opt = Adam(lr=LR, decay=LR / EPOCHS)\n",
    "model.compile(loss=\"binary_crossentropy\", optimizer=opt, metrics=[\"accuracy\"])"
   ]
  },
  {
   "cell_type": "code",
   "execution_count": 41,
   "metadata": {
    "scrolled": true
   },
   "outputs": [
    {
     "name": "stdout",
     "output_type": "stream",
     "text": [
      "WARNING:tensorflow:sample_weight modes were coerced from\n",
      "  ...\n",
      "    to  \n",
      "  ['...']\n",
      "Train for 93 steps, validate on 752 samples\n",
      "Epoch 1/20\n",
      "93/93 [==============================] - 38s 408ms/step - loss: 0.6057 - accuracy: 0.6911 - val_loss: 0.4091 - val_accuracy: 0.8084\n",
      "Epoch 2/20\n",
      "93/93 [==============================] - 31s 334ms/step - loss: 0.3332 - accuracy: 0.8521 - val_loss: 0.3479 - val_accuracy: 0.8424\n",
      "Epoch 3/20\n",
      "93/93 [==============================] - 31s 328ms/step - loss: 0.2494 - accuracy: 0.8998 - val_loss: 0.4623 - val_accuracy: 0.8274\n",
      "Epoch 4/20\n",
      "93/93 [==============================] - 31s 329ms/step - loss: 0.2210 - accuracy: 0.9163 - val_loss: 0.2386 - val_accuracy: 0.9022\n",
      "Epoch 5/20\n",
      "93/93 [==============================] - 31s 330ms/step - loss: 0.1975 - accuracy: 0.9240 - val_loss: 0.3632 - val_accuracy: 0.8668\n",
      "Epoch 6/20\n",
      "93/93 [==============================] - 31s 330ms/step - loss: 0.1837 - accuracy: 0.9338 - val_loss: 0.2812 - val_accuracy: 0.8981\n",
      "Epoch 7/20\n",
      "93/93 [==============================] - 31s 335ms/step - loss: 0.1605 - accuracy: 0.9418 - val_loss: 0.3063 - val_accuracy: 0.8927\n",
      "Epoch 8/20\n",
      "93/93 [==============================] - 30s 328ms/step - loss: 0.1506 - accuracy: 0.9449 - val_loss: 0.3292 - val_accuracy: 0.8872\n",
      "Epoch 9/20\n",
      "93/93 [==============================] - 31s 329ms/step - loss: 0.1485 - accuracy: 0.9442 - val_loss: 0.3167 - val_accuracy: 0.8899\n",
      "Epoch 10/20\n",
      "93/93 [==============================] - 31s 329ms/step - loss: 0.1342 - accuracy: 0.9516 - val_loss: 0.2795 - val_accuracy: 0.8967\n",
      "Epoch 11/20\n",
      "93/93 [==============================] - 30s 327ms/step - loss: 0.1292 - accuracy: 0.9536 - val_loss: 0.3587 - val_accuracy: 0.8818\n",
      "Epoch 12/20\n",
      "93/93 [==============================] - 31s 329ms/step - loss: 0.1241 - accuracy: 0.9539 - val_loss: 0.2389 - val_accuracy: 0.9144\n",
      "Epoch 13/20\n",
      "93/93 [==============================] - 31s 328ms/step - loss: 0.1219 - accuracy: 0.9543 - val_loss: 0.2418 - val_accuracy: 0.9158\n",
      "Epoch 14/20\n",
      "93/93 [==============================] - 31s 330ms/step - loss: 0.1209 - accuracy: 0.9556 - val_loss: 0.2765 - val_accuracy: 0.9035\n",
      "Epoch 15/20\n",
      "93/93 [==============================] - 31s 329ms/step - loss: 0.1135 - accuracy: 0.9563 - val_loss: 0.2397 - val_accuracy: 0.9144\n",
      "Epoch 16/20\n",
      "93/93 [==============================] - 31s 329ms/step - loss: 0.1073 - accuracy: 0.9640 - val_loss: 0.2380 - val_accuracy: 0.9130\n",
      "Epoch 17/20\n",
      "93/93 [==============================] - 31s 331ms/step - loss: 0.1094 - accuracy: 0.9634 - val_loss: 0.2429 - val_accuracy: 0.9130\n",
      "Epoch 18/20\n",
      "93/93 [==============================] - 31s 330ms/step - loss: 0.0984 - accuracy: 0.9694 - val_loss: 0.1836 - val_accuracy: 0.9293\n",
      "Epoch 19/20\n",
      "93/93 [==============================] - 31s 329ms/step - loss: 0.1058 - accuracy: 0.9580 - val_loss: 0.2707 - val_accuracy: 0.9090\n",
      "Epoch 20/20\n",
      "93/93 [==============================] - 31s 328ms/step - loss: 0.0946 - accuracy: 0.9634 - val_loss: 0.2521 - val_accuracy: 0.9130\n"
     ]
    }
   ],
   "source": [
    "C = model.fit(\n",
    "        aug.flow(trainX, trainY, batch_size=BS),\n",
    "        steps_per_epoch=len(trainX) // BS,\n",
    "        validation_data=(testX, testY),\n",
    "        validation_steps=len(testX) // BS,\n",
    "        epochs=EPOCHS\n",
    "        )\n"
   ]
  },
  {
   "cell_type": "code",
   "execution_count": 42,
   "metadata": {},
   "outputs": [
    {
     "name": "stdout",
     "output_type": "stream",
     "text": [
      "              precision    recall  f1-score   support\n",
      "\n",
      "   with_mask       0.99      0.83      0.91       375\n",
      "without_mask       0.86      0.99      0.92       377\n",
      "\n",
      "    accuracy                           0.91       752\n",
      "   macro avg       0.92      0.91      0.91       752\n",
      "weighted avg       0.92      0.91      0.91       752\n",
      "\n"
     ]
    }
   ],
   "source": [
    "predIdxs = model.predict(testX, batch_size=BS)\n",
    "predIdxs = np.argmax(predIdxs, axis=1)\n",
    "\n",
    "print(classification_report(testY.argmax(axis=1), predIdxs, target_names=lb.classes_))"
   ]
  },
  {
   "cell_type": "code",
   "execution_count": 44,
   "metadata": {},
   "outputs": [],
   "source": [
    "model.save(\"mask_detector.model\", save_format=\"h5\")"
   ]
  },
  {
   "cell_type": "code",
   "execution_count": 43,
   "metadata": {},
   "outputs": [
    {
     "data": {
      "text/plain": [
       "<matplotlib.legend.Legend at 0x20b586ca948>"
      ]
     },
     "execution_count": 43,
     "metadata": {},
     "output_type": "execute_result"
    },
    {
     "data": {
      "image/png": "[encoded data removed]",
      "text/plain": [
       "<Figure size 432x288 with 1 Axes>"
      ]
     },
     "metadata": {},
     "output_type": "display_data"
    }
   ],
   "source": [
    "N = EPOCHS\n",
    "plt.style.use(\"ggplot\")\n",
    "plt.figure()\n",
    "plt.plot(np.arange(0, N), C.history[\"loss\"], label=\"train_loss\")\n",
    "plt.plot(np.arange(0, N), C.history[\"val_loss\"], label=\"val_loss\")\n",
    "plt.plot(np.arange(0, N), C.history[\"accuracy\"], label=\"train_acc\")\n",
    "plt.plot(np.arange(0, N), C.history[\"val_accuracy\"], label=\"val_acc\")\n",
    "plt.title(\"Training Loss and Accuracy\")\n",
    "plt.xlabel(\"Epoch Number\")\n",
    "plt.ylabel(\"Loss & Accuracy\")\n",
    "plt.legend(loc=\"lower left\")"
   ]
  }
 ],
 "metadata": {
  "kernelspec": {
   "display_name": "Python [conda env:tensorflow-20] *",
   "language": "python",
   "name": "conda-env-tensorflow-20-py"
  },
  "language_info": {
   "codemirror_mode": {
    "name": "ipython",
    "version": 3
   },
   "file_extension": ".py",
   "mimetype": "text/x-python",
   "name": "python",
   "nbconvert_exporter": "python",
   "pygments_lexer": "ipython3",
   "version": "3.7.9"
  }
 },
 "nbformat": 4,
 "nbformat_minor": 4
}
